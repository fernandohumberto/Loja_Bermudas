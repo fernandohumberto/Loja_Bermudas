{
 "cells": [
  {
   "cell_type": "code",
   "execution_count": 18,
   "metadata": {},
   "outputs": [],
   "source": [
    "import pandas as pd"
   ]
  },
  {
   "cell_type": "code",
   "execution_count": 19,
   "metadata": {},
   "outputs": [
    {
     "data": {
      "text/html": [
       "<div>\n",
       "<style scoped>\n",
       "    .dataframe tbody tr th:only-of-type {\n",
       "        vertical-align: middle;\n",
       "    }\n",
       "\n",
       "    .dataframe tbody tr th {\n",
       "        vertical-align: top;\n",
       "    }\n",
       "\n",
       "    .dataframe thead th {\n",
       "        text-align: right;\n",
       "    }\n",
       "</style>\n",
       "<table border=\"1\" class=\"dataframe\">\n",
       "  <thead>\n",
       "    <tr style=\"text-align: right;\">\n",
       "      <th></th>\n",
       "      <th>Data</th>\n",
       "      <th>ID Loja</th>\n",
       "      <th>Produto</th>\n",
       "      <th>Quantidade</th>\n",
       "      <th>Valor Unitário</th>\n",
       "      <th>Valor Final</th>\n",
       "    </tr>\n",
       "  </thead>\n",
       "  <tbody>\n",
       "    <tr>\n",
       "      <th>0</th>\n",
       "      <td>2019-12-01</td>\n",
       "      <td>Iguatemi Campinas</td>\n",
       "      <td>Bermuda Estampa</td>\n",
       "      <td>1</td>\n",
       "      <td>169</td>\n",
       "      <td>169</td>\n",
       "    </tr>\n",
       "    <tr>\n",
       "      <th>1</th>\n",
       "      <td>2019-12-01</td>\n",
       "      <td>Iguatemi Esplanada</td>\n",
       "      <td>Bermuda Xadrez</td>\n",
       "      <td>1</td>\n",
       "      <td>155</td>\n",
       "      <td>155</td>\n",
       "    </tr>\n",
       "    <tr>\n",
       "      <th>2</th>\n",
       "      <td>2019-12-01</td>\n",
       "      <td>Norte Shopping</td>\n",
       "      <td>Bermuda</td>\n",
       "      <td>2</td>\n",
       "      <td>150</td>\n",
       "      <td>300</td>\n",
       "    </tr>\n",
       "    <tr>\n",
       "      <th>3</th>\n",
       "      <td>2019-12-01</td>\n",
       "      <td>Iguatemi Campinas</td>\n",
       "      <td>Bermuda Listrado</td>\n",
       "      <td>3</td>\n",
       "      <td>163</td>\n",
       "      <td>489</td>\n",
       "    </tr>\n",
       "    <tr>\n",
       "      <th>4</th>\n",
       "      <td>2019-12-01</td>\n",
       "      <td>Iguatemi Campinas</td>\n",
       "      <td>Bermuda Linho</td>\n",
       "      <td>3</td>\n",
       "      <td>195</td>\n",
       "      <td>585</td>\n",
       "    </tr>\n",
       "  </tbody>\n",
       "</table>\n",
       "</div>"
      ],
      "text/plain": [
       "        Data             ID Loja           Produto  Quantidade  \\\n",
       "0 2019-12-01   Iguatemi Campinas   Bermuda Estampa           1   \n",
       "1 2019-12-01  Iguatemi Esplanada    Bermuda Xadrez           1   \n",
       "2 2019-12-01      Norte Shopping           Bermuda           2   \n",
       "3 2019-12-01   Iguatemi Campinas  Bermuda Listrado           3   \n",
       "4 2019-12-01   Iguatemi Campinas     Bermuda Linho           3   \n",
       "\n",
       "   Valor Unitário  Valor Final  \n",
       "0             169          169  \n",
       "1             155          155  \n",
       "2             150          300  \n",
       "3             163          489  \n",
       "4             195          585  "
      ]
     },
     "execution_count": 19,
     "metadata": {},
     "output_type": "execute_result"
    }
   ],
   "source": [
    "df = pd.read_excel('Vendas.xlsx')\n",
    "df.head()"
   ]
  },
  {
   "cell_type": "code",
   "execution_count": 20,
   "metadata": {},
   "outputs": [
    {
     "data": {
      "text/plain": [
       "55895"
      ]
     },
     "execution_count": 20,
     "metadata": {},
     "output_type": "execute_result"
    }
   ],
   "source": [
    "# VALOR TOTAL VENDIDO\n",
    "VALOR_TOTAL_VENDIDO = df['Valor Final'].sum()\n",
    "VALOR_TOTAL_VENDIDO"
   ]
  },
  {
   "cell_type": "code",
   "execution_count": 21,
   "metadata": {},
   "outputs": [
    {
     "data": {
      "text/plain": [
       "ID Loja\n",
       "Iguatemi Campinas             41720\n",
       "Bourbon Shopping SP            4386\n",
       "Norte Shopping                 4322\n",
       "Center Shopping Uberlândia     2994\n",
       "Iguatemi Esplanada             2473\n",
       "Name: Valor Final, dtype: int64"
      ]
     },
     "execution_count": 21,
     "metadata": {},
     "output_type": "execute_result"
    }
   ],
   "source": [
    "# VALOR VENDIDO POR LOJA\n",
    "VALOR_VENDIDO_POR_LOJA = df.groupby('ID Loja')['Valor Final'].sum().sort_values(ascending = False)\n",
    "VALOR_VENDIDO_POR_LOJA"
   ]
  },
  {
   "cell_type": "code",
   "execution_count": 22,
   "metadata": {},
   "outputs": [
    {
     "data": {
      "text/plain": [
       "Produto\n",
       "Bermuda Liso        36581\n",
       "Bermuda Xadrez       4340\n",
       "Bermuda Listrado     4075\n",
       "Bermuda Linho        3900\n",
       "Bermuda Estampa      3549\n",
       "Bermuda              3450\n",
       "Name: Valor Final, dtype: int64"
      ]
     },
     "execution_count": 22,
     "metadata": {},
     "output_type": "execute_result"
    }
   ],
   "source": [
    "#VALOR_VENDIDO_POR_PRODUTO\n",
    "VALOR_VENDIDO_POR_PRODUTO = df.groupby('Produto')['Valor Final'].sum().sort_values(ascending=False)\n",
    "VALOR_VENDIDO_POR_PRODUTO "
   ]
  },
  {
   "cell_type": "code",
   "execution_count": 43,
   "metadata": {},
   "outputs": [
    {
     "data": {
      "text/plain": [
       "ID Loja                     Produto         \n",
       "Bourbon Shopping SP         Bermuda               750\n",
       "                            Bermuda Estampa      1183\n",
       "                            Bermuda Linho         195\n",
       "                            Bermuda Listrado     1793\n",
       "                            Bermuda Xadrez        465\n",
       "Center Shopping Uberlândia  Bermuda Estampa       338\n",
       "                            Bermuda Linho         780\n",
       "                            Bermuda Listrado      326\n",
       "                            Bermuda Xadrez       1550\n",
       "Iguatemi Campinas           Bermuda              1200\n",
       "                            Bermuda Estampa       845\n",
       "                            Bermuda Linho        1170\n",
       "                            Bermuda Liso        36581\n",
       "                            Bermuda Listrado     1304\n",
       "                            Bermuda Xadrez        620\n",
       "Iguatemi Esplanada          Bermuda               150\n",
       "                            Bermuda Estampa       338\n",
       "                            Bermuda Linho        1365\n",
       "                            Bermuda Xadrez        620\n",
       "Norte Shopping              Bermuda              1350\n",
       "                            Bermuda Estampa       845\n",
       "                            Bermuda Linho         390\n",
       "                            Bermuda Listrado      652\n",
       "                            Bermuda Xadrez       1085\n",
       "Name: Valor Final, dtype: int64"
      ]
     },
     "execution_count": 43,
     "metadata": {},
     "output_type": "execute_result"
    }
   ],
   "source": [
    "#PRODUTO_VENDIDO_POR_LOJA\n",
    "PRODUTO_VENDIDO_POR_LOJA = df.groupby(['ID Loja', 'Produto'])['Valor Final'].sum()\n",
    "PRODUTO_VENDIDO_POR_LOJA"
   ]
  }
 ],
 "metadata": {
  "kernelspec": {
   "display_name": "Python 3",
   "language": "python",
   "name": "python3"
  },
  "language_info": {
   "codemirror_mode": {
    "name": "ipython",
    "version": 3
   },
   "file_extension": ".py",
   "mimetype": "text/x-python",
   "name": "python",
   "nbconvert_exporter": "python",
   "pygments_lexer": "ipython3",
   "version": "3.12.4"
  }
 },
 "nbformat": 4,
 "nbformat_minor": 2
}
